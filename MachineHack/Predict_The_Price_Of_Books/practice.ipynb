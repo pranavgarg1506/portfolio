{
 "cells": [
  {
   "cell_type": "code",
   "execution_count": 2,
   "metadata": {},
   "outputs": [],
   "source": [
    "import warnings\n",
    "warnings.filterwarnings('ignore')\n",
    "\n",
    "import numpy as np\n",
    "import pandas as pd\n",
    "import seaborn as sns\n",
    "import matplotlib.pyplot as plt\n",
    "\n",
    "from sklearn import preprocessing, model_selection, metrics, linear_model, tree, ensemble"
   ]
  },
  {
   "cell_type": "code",
   "execution_count": 4,
   "metadata": {},
   "outputs": [
    {
     "data": {
      "text/html": [
       "<div>\n",
       "<style scoped>\n",
       "    .dataframe tbody tr th:only-of-type {\n",
       "        vertical-align: middle;\n",
       "    }\n",
       "\n",
       "    .dataframe tbody tr th {\n",
       "        vertical-align: top;\n",
       "    }\n",
       "\n",
       "    .dataframe thead th {\n",
       "        text-align: right;\n",
       "    }\n",
       "</style>\n",
       "<table border=\"1\" class=\"dataframe\">\n",
       "  <thead>\n",
       "    <tr style=\"text-align: right;\">\n",
       "      <th></th>\n",
       "      <th>Title</th>\n",
       "      <th>Author</th>\n",
       "      <th>Edition</th>\n",
       "      <th>Reviews</th>\n",
       "      <th>Ratings</th>\n",
       "      <th>Synopsis</th>\n",
       "      <th>Genre</th>\n",
       "      <th>BookCategory</th>\n",
       "      <th>Price</th>\n",
       "    </tr>\n",
       "  </thead>\n",
       "  <tbody>\n",
       "    <tr>\n",
       "      <th>0</th>\n",
       "      <td>The Prisoner's Gold (The Hunters 3)</td>\n",
       "      <td>Chris Kuzneski</td>\n",
       "      <td>Paperback,– 10 Mar 2016</td>\n",
       "      <td>4.0 out of 5 stars</td>\n",
       "      <td>8 customer reviews</td>\n",
       "      <td>THE HUNTERS return in their third brilliant no...</td>\n",
       "      <td>Action &amp; Adventure (Books)</td>\n",
       "      <td>Action &amp; Adventure</td>\n",
       "      <td>220.00</td>\n",
       "    </tr>\n",
       "    <tr>\n",
       "      <th>1</th>\n",
       "      <td>Guru Dutt: A Tragedy in Three Acts</td>\n",
       "      <td>Arun Khopkar</td>\n",
       "      <td>Paperback,– 7 Nov 2012</td>\n",
       "      <td>3.9 out of 5 stars</td>\n",
       "      <td>14 customer reviews</td>\n",
       "      <td>A layered portrait of a troubled genius for wh...</td>\n",
       "      <td>Cinema &amp; Broadcast (Books)</td>\n",
       "      <td>Biographies, Diaries &amp; True Accounts</td>\n",
       "      <td>202.93</td>\n",
       "    </tr>\n",
       "    <tr>\n",
       "      <th>2</th>\n",
       "      <td>Leviathan (Penguin Classics)</td>\n",
       "      <td>Thomas Hobbes</td>\n",
       "      <td>Paperback,– 25 Feb 1982</td>\n",
       "      <td>4.8 out of 5 stars</td>\n",
       "      <td>6 customer reviews</td>\n",
       "      <td>\"During the time men live without a common Pow...</td>\n",
       "      <td>International Relations</td>\n",
       "      <td>Humour</td>\n",
       "      <td>299.00</td>\n",
       "    </tr>\n",
       "    <tr>\n",
       "      <th>3</th>\n",
       "      <td>A Pocket Full of Rye (Miss Marple)</td>\n",
       "      <td>Agatha Christie</td>\n",
       "      <td>Paperback,– 5 Oct 2017</td>\n",
       "      <td>4.1 out of 5 stars</td>\n",
       "      <td>13 customer reviews</td>\n",
       "      <td>A handful of grain is found in the pocket of a...</td>\n",
       "      <td>Contemporary Fiction (Books)</td>\n",
       "      <td>Crime, Thriller &amp; Mystery</td>\n",
       "      <td>180.00</td>\n",
       "    </tr>\n",
       "    <tr>\n",
       "      <th>4</th>\n",
       "      <td>LIFE 70 Years of Extraordinary Photography</td>\n",
       "      <td>Editors of Life</td>\n",
       "      <td>Hardcover,– 10 Oct 2006</td>\n",
       "      <td>5.0 out of 5 stars</td>\n",
       "      <td>1 customer review</td>\n",
       "      <td>For seven decades, \"Life\" has been thrilling t...</td>\n",
       "      <td>Photography Textbooks</td>\n",
       "      <td>Arts, Film &amp; Photography</td>\n",
       "      <td>965.62</td>\n",
       "    </tr>\n",
       "  </tbody>\n",
       "</table>\n",
       "</div>"
      ],
      "text/plain": [
       "                                        Title           Author  \\\n",
       "0         The Prisoner's Gold (The Hunters 3)   Chris Kuzneski   \n",
       "1          Guru Dutt: A Tragedy in Three Acts     Arun Khopkar   \n",
       "2                Leviathan (Penguin Classics)    Thomas Hobbes   \n",
       "3          A Pocket Full of Rye (Miss Marple)  Agatha Christie   \n",
       "4  LIFE 70 Years of Extraordinary Photography  Editors of Life   \n",
       "\n",
       "                   Edition             Reviews              Ratings  \\\n",
       "0  Paperback,– 10 Mar 2016  4.0 out of 5 stars   8 customer reviews   \n",
       "1   Paperback,– 7 Nov 2012  3.9 out of 5 stars  14 customer reviews   \n",
       "2  Paperback,– 25 Feb 1982  4.8 out of 5 stars   6 customer reviews   \n",
       "3   Paperback,– 5 Oct 2017  4.1 out of 5 stars  13 customer reviews   \n",
       "4  Hardcover,– 10 Oct 2006  5.0 out of 5 stars    1 customer review   \n",
       "\n",
       "                                            Synopsis  \\\n",
       "0  THE HUNTERS return in their third brilliant no...   \n",
       "1  A layered portrait of a troubled genius for wh...   \n",
       "2  \"During the time men live without a common Pow...   \n",
       "3  A handful of grain is found in the pocket of a...   \n",
       "4  For seven decades, \"Life\" has been thrilling t...   \n",
       "\n",
       "                          Genre                          BookCategory   Price  \n",
       "0    Action & Adventure (Books)                    Action & Adventure  220.00  \n",
       "1    Cinema & Broadcast (Books)  Biographies, Diaries & True Accounts  202.93  \n",
       "2       International Relations                                Humour  299.00  \n",
       "3  Contemporary Fiction (Books)             Crime, Thriller & Mystery  180.00  \n",
       "4         Photography Textbooks              Arts, Film & Photography  965.62  "
      ]
     },
     "execution_count": 4,
     "metadata": {},
     "output_type": "execute_result"
    }
   ],
   "source": [
    "train = pd.read_excel('Data_Train.xlsx')\n",
    "train.head()"
   ]
  },
  {
   "cell_type": "code",
   "execution_count": 5,
   "metadata": {},
   "outputs": [
    {
     "name": "stdout",
     "output_type": "stream",
     "text": [
      "<class 'pandas.core.frame.DataFrame'>\n",
      "RangeIndex: 6237 entries, 0 to 6236\n",
      "Data columns (total 9 columns):\n",
      " #   Column        Non-Null Count  Dtype  \n",
      "---  ------        --------------  -----  \n",
      " 0   Title         6237 non-null   object \n",
      " 1   Author        6237 non-null   object \n",
      " 2   Edition       6237 non-null   object \n",
      " 3   Reviews       6237 non-null   object \n",
      " 4   Ratings       6237 non-null   object \n",
      " 5   Synopsis      6237 non-null   object \n",
      " 6   Genre         6237 non-null   object \n",
      " 7   BookCategory  6237 non-null   object \n",
      " 8   Price         6237 non-null   float64\n",
      "dtypes: float64(1), object(8)\n",
      "memory usage: 438.7+ KB\n"
     ]
    }
   ],
   "source": [
    "train.info()"
   ]
  },
  {
   "cell_type": "code",
   "execution_count": 7,
   "metadata": {},
   "outputs": [
    {
     "data": {
      "text/plain": [
       "(1560, 8)"
      ]
     },
     "execution_count": 7,
     "metadata": {},
     "output_type": "execute_result"
    }
   ],
   "source": [
    "test = pd.read_excel('Data_Test.xlsx')\n",
    "test.shape"
   ]
  },
  {
   "cell_type": "code",
   "execution_count": 8,
   "metadata": {},
   "outputs": [
    {
     "name": "stdout",
     "output_type": "stream",
     "text": [
      "<class 'pandas.core.frame.DataFrame'>\n",
      "RangeIndex: 1560 entries, 0 to 1559\n",
      "Data columns (total 8 columns):\n",
      " #   Column        Non-Null Count  Dtype \n",
      "---  ------        --------------  ----- \n",
      " 0   Title         1560 non-null   object\n",
      " 1   Author        1560 non-null   object\n",
      " 2   Edition       1560 non-null   object\n",
      " 3   Reviews       1560 non-null   object\n",
      " 4   Ratings       1560 non-null   object\n",
      " 5   Synopsis      1560 non-null   object\n",
      " 6   Genre         1560 non-null   object\n",
      " 7   BookCategory  1560 non-null   object\n",
      "dtypes: object(8)\n",
      "memory usage: 97.6+ KB\n"
     ]
    }
   ],
   "source": [
    "test.info()"
   ]
  },
  {
   "cell_type": "code",
   "execution_count": 9,
   "metadata": {},
   "outputs": [
    {
     "data": {
      "text/plain": [
       "Title           0\n",
       "Author          0\n",
       "Edition         0\n",
       "Reviews         0\n",
       "Ratings         0\n",
       "Synopsis        0\n",
       "Genre           0\n",
       "BookCategory    0\n",
       "Price           0\n",
       "dtype: int64"
      ]
     },
     "execution_count": 9,
     "metadata": {},
     "output_type": "execute_result"
    }
   ],
   "source": [
    "## Null values\n",
    "train.isna().sum()"
   ]
  },
  {
   "cell_type": "code",
   "execution_count": 10,
   "metadata": {},
   "outputs": [
    {
     "data": {
      "text/plain": [
       "Title           0\n",
       "Author          0\n",
       "Edition         0\n",
       "Reviews         0\n",
       "Ratings         0\n",
       "Synopsis        0\n",
       "Genre           0\n",
       "BookCategory    0\n",
       "dtype: int64"
      ]
     },
     "execution_count": 10,
     "metadata": {},
     "output_type": "execute_result"
    }
   ],
   "source": [
    "test.isna().sum()"
   ]
  },
  {
   "cell_type": "code",
   "execution_count": 11,
   "metadata": {},
   "outputs": [
    {
     "name": "stdout",
     "output_type": "stream",
     "text": [
      "columns Title\n",
      "A Game of Thrones (A Song of Ice and Fire)                                                4\n",
      "Casino Royale: James Bond 007 (Vintage)                                                   4\n",
      "Deception Point                                                                           3\n",
      "How to Build a Car: The Autobiography of the World’s Greatest Formula 1 Designer          3\n",
      "National Geographic Dawn to Dark Photographs: The Magic of Light                          3\n",
      "                                                                                         ..\n",
      "Living on the Volcano: The Secrets of Surviving as a Football Manager                     1\n",
      "Weapons of Math Destruction: How Big Data Increases Inequality and Threatens Democracy    1\n",
      "Suzuki Violin School: 3 (The Suzuki Method Core Materials)                                1\n",
      "Bharata Natyam                                                                            1\n",
      "The Talented Mr Ripley                                                                    1\n",
      "Name: Title, Length: 5568, dtype: int64\n",
      "columns Author\n",
      "Agatha Christie             69\n",
      "Ladybird                    49\n",
      "DK                          48\n",
      "Albert Uderzo               34\n",
      "Herge                       34\n",
      "                            ..\n",
      "Kelsey Oseid                 1\n",
      "Dennis Bergkamp              1\n",
      "Le Corbusier                 1\n",
      "George, Weedon Grossmith     1\n",
      "Pitman                       1\n",
      "Name: Author, Length: 3679, dtype: int64\n",
      "columns Edition\n",
      "Paperback,– 5 Oct 2017                 48\n",
      "Paperback,– 2016                       46\n",
      "Paperback,– 2017                       36\n",
      "Paperback,– 2013                       31\n",
      "Paperback,– 2019                       30\n",
      "                                       ..\n",
      "Paperback,– 1 Sep 2006                  1\n",
      "Mass Market Paperback,– 30 Oct 2015     1\n",
      "Paperback,– Import, 14 May 2001         1\n",
      "Paperback,– 24 Jun 2013                 1\n",
      "Paperback,– Jun 2018                    1\n",
      "Name: Edition, Length: 3370, dtype: int64\n",
      "columns Reviews\n",
      "5.0 out of 5 stars    1375\n",
      "4.0 out of 5 stars     570\n",
      "4.5 out of 5 stars     507\n",
      "4.6 out of 5 stars     394\n",
      "4.4 out of 5 stars     389\n",
      "4.3 out of 5 stars     359\n",
      "4.7 out of 5 stars     343\n",
      "4.2 out of 5 stars     324\n",
      "4.1 out of 5 stars     310\n",
      "3.9 out of 5 stars     241\n",
      "4.8 out of 5 stars     222\n",
      "3.8 out of 5 stars     190\n",
      "3.7 out of 5 stars     167\n",
      "3.0 out of 5 stars     138\n",
      "3.5 out of 5 stars     115\n",
      "3.6 out of 5 stars     110\n",
      "4.9 out of 5 stars      75\n",
      "3.4 out of 5 stars      75\n",
      "3.3 out of 5 stars      57\n",
      "1.0 out of 5 stars      49\n",
      "3.1 out of 5 stars      49\n",
      "3.2 out of 5 stars      41\n",
      "2.0 out of 5 stars      39\n",
      "2.9 out of 5 stars      26\n",
      "2.5 out of 5 stars      18\n",
      "2.7 out of 5 stars      16\n",
      "2.8 out of 5 stars      10\n",
      "2.3 out of 5 stars       7\n",
      "1.5 out of 5 stars       5\n",
      "2.6 out of 5 stars       4\n",
      "2.4 out of 5 stars       4\n",
      "2.2 out of 5 stars       3\n",
      "1.4 out of 5 stars       2\n",
      "2.1 out of 5 stars       1\n",
      "1.6 out of 5 stars       1\n",
      "1.7 out of 5 stars       1\n",
      "Name: Reviews, dtype: int64\n",
      "columns Ratings\n",
      "1 customer review         1040\n",
      "2 customer reviews         708\n",
      "3 customer reviews         491\n",
      "4 customer reviews         355\n",
      "5 customer reviews         300\n",
      "                          ... \n",
      "140 customer reviews         1\n",
      "474 customer reviews         1\n",
      "1,558 customer reviews       1\n",
      "1,248 customer reviews       1\n",
      "379 customer reviews         1\n",
      "Name: Ratings, Length: 342, dtype: int64\n",
      "columns Synopsis\n",
      "A Tinkle Double Digest is two Tinkle Digests in one volume. These include the best stories of Tinkle over the years.                                                                                                                                                                                                                                                                                                                                                                                                                                                                                                                                                                                                                                                                                                                                                                                                                                                                                                                                                                                                                                                                                                                                                                                                                                8\n",
      "Calvin, cheeky, hyperactive and mischievous, and Hobbes, his cuddly toy tiger who, as far as Calvin is concerned is very much alive and kicking, are two of the most loveable and hilarious characters to grace the comic strip in years.                                                                                                                                                                                                                                                                                                                                                                                                                                                                                                                                                                                                                                                                                                                                                                                                                                                                                                                                                                                                                                                                                                           5\n",
      "A fun filled joyride of Phonics that makes the child learn how to read using the sounds that letters represent.                                                                                                                                                                                                                                                                                                                                                                                                                                                                                                                                                                                                                                                                                                                                                                                                                                                                                                                                                                                                                                                                                                                                                                                                                                     4\n",
      "Published in celebration of the twentieth anniversary of George R. R. Martin’s landmark series, this lavishly illustrated special edition of A Game of Thrones―with gorgeous full-page illustrations in every chapter―revitalizes the fantasy masterpiece that became a cultural phenomenon.\\nIn a land where summers can last decades and winters a lifetime, trouble is brewing. The cold is returning, and in the frozen wastes to the North of Winterfell, sinister and supernatural forces are massing beyond the kingdom’s protective Wall.\\nAt the centre of the conflict lie the Starks of Winterfell, a family as harsh and unyielding as the land they were born to. Sweeping from a region of brutal cold to a distant summertime kingdom of epicurean plenty, here is a tale of lords and ladies, soldiers and sorcerers, assassins and bastards, who come together in a time of grim omens.\\nAmid plots and counterplots, tragedy and betrayal, victory and terror, the fate of the Starks, their allies, and their enemies hangs perilously in the balance, as each endeavours to win that deadliest of conflicts: the game of thrones.                                                                                                                                                                                               4\n",
      "Coloring allows a child to relax and be comfortable while creating a piece of art. Children can fill in the figures and shapes on the page any way they choose, coloring helps a child practice holding a writing tool the correct way and aids in developing those tiny muscles in their hands, fingers, and wrist. This is a fun book which will directly reflect to developing the skills of your child.                                                                                                                                                                                                                                                                                                                                                                                                                                                                                                                                                                                                                                                                                                                                                                                                                                                                                                                                         4\n",
      "                                                                                                                                                                                                                                                                                                                                                                                                                                                                                                                                                                                                                                                                                                                                                                                                                                                                                                                                                                                                                                                                                                                                                                                                                                                                                                                                                   ..\n",
      "The author behind 1000awesomethings.com celebrates the good things in life- by the sheer power of their awesomeness.\\nBased on the award-winning blog 1000awesomethings.com, \"The Book of Awesome\" is a high five for humanity and a big celebration of life’s little moments and the underappreciated, simple things that make us happy, from popping bubble wrap to hitting a bunch of green lights in a row, to waking up thinking it’s Monday and realizing it’s Saturday. With wise, witty observations from writer Neil Pasricha, this treasure trove is filled with smile-inducing musings that make readers feel like kids looking at the world for the first time: Awesome!                                                                                                                                                                                                                                                                                                                                                                                                                                                                                                                                                                                                                                                                1\n",
      "The acclaimed political thriller that first introduced the unforgettable Francis Urquhart MP and launched Michael Dobbs' No 1 bestselling career - now updated with brand new material.\\nMichael Dobbs' entertaining tale of skulduggery and intrigue within the Palace of Westminster has been a huge hit with the public. Its scheming hero, Chief Whip Francis Urquhart, who uses fair means and foul to become Prime Minister, is one of the bestknown characters of the last decade - the politician we all love to hate.\\nAcclaimed for its authenticity and insights into a secret world - the result of many years working behind the scenes for the Conservative Party - it became a highly popular, awardwinning BBC TV series, with Francis Urquhart memorably portrayed by Ian Richardson,and was followed by two further sequels, 'To Play the King' and 'The Final Cut', which also became top-rating TV series.                                                                                                                                                                                                                                                                                                                                                                                                                      1\n",
      "Rereko is just your average high-school girl from Electopia, the land of electricity, but she's totally failed her final electricity exam! Now she has to go to summer school on Earth. And this time, she has to pass\\nLuckily, her ever-patient tutor Hikaru is there to help. Join them in the pages of The Manga Guide to Electricity as Rereko examines everyday electrical devices like flashlights, heaters, and circuit breakers, and learns the meaning of abstract concepts like voltage, potential, current, resistance, conductivity, and electrostatic force.\\nThe real-world examples that you'll find in The Manga Guide to Electricity will teach you:\\nWhat electricity is, how it works, how it's created, and how it can be used\\nThe relationship between voltage, current, and resistance (Ohm's law)\\nKey electrical concepts like inductance and capacitance\\nHow complicated components like transformers, semiconductors, diodes, and transistors work\\nHow electricity produces heat and the relationship between current and magnetic fields\\nIf thinking about how electricity works really fries your brain, let The Manga Guide to Electricity teach you all things electrical in a shockingly fun way.                                                                                                               1\n",
      "Be assured that when you are ready to push the limits of training and competition, your body is, too! Far beyond the typical food pyramid formula, \"Advanced Sports Nutrition, 2nd Edition\" offers serious strategies for serious athletes. This comprehensive guide includes the latest nutrition concepts for athletes in any sport. World-renowned sports nutritionist Dr. Dan Benardot breaks down the chemistry of improved performance into winning principles that ensure athletes' key energy systems are properly stocked at all times. This new edition features advice on meals, energy and nutrient-timing guidelines to maintain that crucial energy balance throughout the day. Also included are explanations on optimal ratios and quantities of nutrients as well as guidelines on identifying and maintaining optimal body composition for maximal power. Publicity of this title is through UK and European fitness and health magazines including \"BASES' The Sport and Exercise Scientist\" and \"Health & Fitness\". It is featured at fitness events throughout the UK and Europe. Mailings of this title are to consumers interested in health, fitness and nutrition. It is also featured in Human Kinetics' monthly \"FitNews E-Newsletter\" sent to over 10,000 subscribers, and on Human Kinetics' Health & Fitness Blog.    1\n",
      "Photography by Fredrik Marmsater\\nTake Your Training to New Heights with This One-Stop Manual on Ultras\\nWith fifteen years running and competing around the world under her belt, Krissy Moehl is a top female ultramarathon runner, respected by her peers and an inspiration to runners everywhere. Between Moehl's positive and encouraging attitude and her deep knowledge and enthusiasm for the sport, there's no one better to prepare and train you for your first ultra and beyond!\\nMoehl will become your guide to completing a 50K, 50-mile or 100-mile race. Her experience translates into the most effective and easy-to-follow training method, broken down into phases to help all runners take it to the next level and accomplish their goals. She shares her love of the sport by providing helpful tips, bonus content and personal stories. Her commitment to growing the sport and passion for coaching others running their first is evident in the care she's taken to create detailed plans and lifestyle adjustments. With Moehl, you will find all the resources and encouragement you need to succeed in challenging your mind and body with an ultramarathon!                                                                                                                                                        1\n",
      "Name: Synopsis, Length: 5549, dtype: int64\n",
      "columns Genre\n",
      "Action & Adventure (Books)               947\n",
      "Romance (Books)                          419\n",
      "Biographies & Autobiographies (Books)    373\n",
      "Crime, Thriller & Mystery (Books)        276\n",
      "Contemporary Fiction (Books)             256\n",
      "                                        ... \n",
      "Marathon & Running (Books)                 1\n",
      "History of Ideas                           1\n",
      "Oncology                                   1\n",
      "Aeronautical Engineering                   1\n",
      "Encyclopedias for Children                 1\n",
      "Name: Genre, Length: 345, dtype: int64\n",
      "columns BookCategory\n",
      "Action & Adventure                      818\n",
      "Crime, Thriller & Mystery               723\n",
      "Biographies, Diaries & True Accounts    596\n",
      "Language, Linguistics & Writing         594\n",
      "Comics & Mangas                         583\n",
      "Romance                                 560\n",
      "Humour                                  540\n",
      "Arts, Film & Photography                517\n",
      "Computing, Internet & Digital Media     510\n",
      "Sports                                  471\n",
      "Politics                                325\n",
      "Name: BookCategory, dtype: int64\n"
     ]
    }
   ],
   "source": [
    "for col in train.columns:\n",
    "    if train[col].dtypes == 'object':\n",
    "        print(\"columns\",col)\n",
    "        print(train[col].value_counts())"
   ]
  },
  {
   "cell_type": "code",
   "execution_count": null,
   "metadata": {},
   "outputs": [],
   "source": []
  }
 ],
 "metadata": {
  "kernelspec": {
   "display_name": "Python 3",
   "language": "python",
   "name": "python3"
  },
  "language_info": {
   "codemirror_mode": {
    "name": "ipython",
    "version": 3
   },
   "file_extension": ".py",
   "mimetype": "text/x-python",
   "name": "python",
   "nbconvert_exporter": "python",
   "pygments_lexer": "ipython3",
   "version": "3.6.9"
  }
 },
 "nbformat": 4,
 "nbformat_minor": 4
}
